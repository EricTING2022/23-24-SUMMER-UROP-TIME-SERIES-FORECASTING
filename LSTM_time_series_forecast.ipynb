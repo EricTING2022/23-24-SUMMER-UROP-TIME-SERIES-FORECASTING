{
  "nbformat": 4,
  "nbformat_minor": 0,
  "metadata": {
    "colab": {
      "provenance": [],
      "gpuType": "T4"
    },
    "kernelspec": {
      "name": "python3",
      "display_name": "Python 3"
    },
    "language_info": {
      "name": "python"
    },
    "accelerator": "GPU"
  },
  "cells": [
    {
      "cell_type": "code",
      "execution_count": 1,
      "metadata": {
        "id": "ZBukgICHvTzV"
      },
      "outputs": [],
      "source": [
        "import os\n",
        "import datetime\n",
        "\n",
        "import matplotlib as mpl\n",
        "import matplotlib.pyplot as plt\n",
        "import numpy as np\n",
        "import pandas as pd\n",
        "import seaborn as sns\n",
        "\n",
        "mpl.rcParams['figure.figsize'] = (8, 6)\n",
        "mpl.rcParams['axes.grid'] = False\n"
      ]
    },
    {
      "cell_type": "markdown",
      "source": [
        "**Prepare Data**"
      ],
      "metadata": {
        "id": "EVHOTtyaY2AQ"
      }
    },
    {
      "cell_type": "code",
      "source": [
        "stocks = {\n",
        "\"financial_large_stocks\" : ['WFC','PNC','BAC','C','JPM'],\n",
        "\"financial_mid_stocks\" : ['TRV', 'ALL', 'HBAN', 'LNC', 'RF'],\n",
        "\"financial_small_stocks\" : ['UMBF', 'HFWA', 'SBSI', 'THFF', 'RNST'],\n",
        "\n",
        "\"tech_large_stocks\" : ['MSFT', 'AAPL', 'IBM', 'CSCO', 'INTC'],\n",
        "\"tech_mid_stocks\" : ['MANH', 'NVDA', 'SWKS', 'CGNX', 'BLKB'],\n",
        "\"tech_small_stocks\" : ['PLAB', 'TSRI', 'CAMP', 'ASUR', 'DMRC'],\n",
        "\n",
        "\"medic_large_stocks\" : ['JNJ', 'PFE', 'MRK', 'ABT', 'LLY'],\n",
        "\"medic_mid_stocks\" : ['DXCM', 'HOLX', 'PDCO', 'ALGN', 'TECH'],\n",
        "\"medic_small_stocks\" : ['OMI', 'VIVE', 'OGEN', 'CLDX', 'ANGO'],\n",
        "\n",
        "\"utility_large_stocks\" : ['NEE', 'DUK', 'SO', 'D', 'EXC'],\n",
        "\"utility_mid_stocks\"  : ['AWK', 'WEC', 'PNM', 'NWE', 'OGE'],\n",
        "\"utility_small_stocks\" : ['MGEE', 'CNLG', 'CWCO', 'ARTNA', 'SJI'],\n",
        "\n",
        "\"food_large_stocks\" : ['PEP', 'KO', 'PG', 'MDLZ', 'GIS'],\n",
        "\"food_mid_stocks\" : ['BGS', 'FLO', 'JBSS', 'TSN', 'THS'],\n",
        "\"food_small_stocks\" : ['FARM', 'PRMW', 'WINA', 'CALM', 'UNFI']\n",
        "}\n",
        "test_stocks = {\n",
        "\"choosen_stocks\":[\"AAPL\",\"DXCM\",\"JPM\",\"NEE\"]\n",
        "}"
      ],
      "metadata": {
        "id": "qxKdSYvVUPg7"
      },
      "execution_count": 24,
      "outputs": []
    },
    {
      "cell_type": "code",
      "source": [
        "# Scale the data to be between 0 and 1\n",
        "# When scaling remember! You normalize both test and train data with respect to training data\n",
        "# Because you are not supposed to have access to test data\n",
        "\n",
        "def get_ON_normalized_dt(df, scaler):\n",
        "  data = np.array(df_close).reshape(-1,1)\n",
        "\n",
        "  df_old_normalized = scaler.fit_transform(data[:len(data)//2,:])\n",
        "  df_new_normalized = scaler.fit_transform(data[len(data)//2+1:,:])\n",
        "\n",
        "  df_old_normalized += 0.01\n",
        "  df_new_normalized += 0.01\n",
        "  df_old_normalized[df_old_normalized>1] = 1\n",
        "  df_new_normalized[df_new_normalized>1] = 1\n",
        "\n",
        "  return df_old_normalized.reshape(-1,1), df_new_normalized.reshape(-1,1)\n",
        "\n",
        "def create_dataset(dataset,time_step=1):\n",
        "\n",
        "  dataX, dataY = [], []\n",
        "  for i in range(len(dataset)-time_step):\n",
        "    a = dataset[i:(i+time_step),0]\n",
        "    dataX.append(a)\n",
        "    dataY.append(dataset[i+time_step,0])\n",
        "  return np.array(dataX), np.array(dataY)\n",
        "\n",
        "def creat_train_test(data,time_step=1):\n",
        "  # split = int(split_percent*len(data))\n",
        "  # train = data[:split]\n",
        "  # test = data[split:]\n",
        "\n",
        "  train = data[:len(data)-(30+time_step)]\n",
        "  test = data[-(30+time_step):]\n",
        "\n",
        "  X_train, y_train = create_dataset(train,time_step)\n",
        "  X_test, y_test = create_dataset(test,time_step)\n",
        "  X_train = X_train[:,:,None]\n",
        "  X_test= X_test[:,:,None]\n",
        "\n",
        "  return X_train, y_train, X_test, y_test\n",
        "\n",
        "import math\n",
        "from sklearn.metrics import mean_squared_error, mean_absolute_percentage_error\n",
        "def get_prediction(model, scalar,X_train,X_test):\n",
        "  train_predict=model.predict(X_train)\n",
        "  test_predict=model.predict(X_test)\n",
        "\n",
        "  train_predict=scaler.inverse_transform(train_predict)\n",
        "  test_predict=scaler.inverse_transform(test_predict)\n",
        "  return train_predict, test_predict\n",
        "\n",
        "def get_MAE(y_test, predictions):\n",
        "  _ , test_predict = predictions\n",
        "  test_MAE = math.sqrt(mean_squared_error(y_test,test_predict))\n",
        "\n",
        "  # return train_MAE, test_MAE\n",
        "  return np.around(test_MAE,4)\n",
        "def get_MAPE(y_test, predictions):\n",
        "  _, test_predict = predictions\n",
        "  test_MAPE = mean_absolute_percentage_error(y_test,test_predict)\n",
        "\n",
        "  # return train_MAPE, test_MAPE\n",
        "  return np.around(test_MAPE,7)\n"
      ],
      "metadata": {
        "id": "4zMJG8FViZ9E"
      },
      "execution_count": 39,
      "outputs": []
    },
    {
      "cell_type": "code",
      "source": [
        "import time\n",
        "def plot_predictions(ON_data,ON_predictions,ON_MAE,scaler,date,name,look_back):\n",
        "  slots = [\"past\", \"current\"]\n",
        "  fig, axs = plt.subplots(2,1, figsize=(7,7))\n",
        "  ax1, ax2 = axs\n",
        "\n",
        "\n",
        "  test_data = ON_data[0]\n",
        "  train_predict, test_predict = ON_predictions[0]\n",
        "\n",
        "  # trainPredictPlot = np.zeros(np.shape(data))+ np.nan\n",
        "  # trainPredictPlot[look_back:len(train_predict)+look_back,:] = train_predict\n",
        "\n",
        "  # testPredictPlot = np.zeros(np.shape(data))+np.nan\n",
        "  # testPredictPlot[len(train_predict)+look_back+1:len(data)-(1+look_back),:] = test_predict\n",
        "\n",
        "  # train_data = scaler.inverse_transform(data[look_back:len(train_predict)+look_back])\n",
        "  ax1.plot(range(test_data.shape[0]),test_data)\n",
        "  ax1.plot(range(test_data.shape[0]),test_predict)\n",
        "  ax1.legend([\"Ground Truth\", \"Prediction\"], loc=\"best\")\n",
        "  # ax1.xticks(range(0,test_data.shape[0],5),date.loc[len(train_predict)+look_back*2+1:len(data)-1:5],rotation=45)\n",
        "\n",
        "  start = len(train_predict)+look_back*2\n",
        "\n",
        "  ax1.set_xticks(range(0,len(test_data)+1,5),date[start:start+len(test_data)+1:5],size=6,rotation=45)\n",
        "  #ax1.text(3.5, 10, f'MAE : {ON_MAE[0]}', ha='right', va='center', transform=ax2.transAxes)\n",
        "  # plt.text(.8, .7, f\"past_Test_MAE: {ON_MAE[0][1]}\")\n",
        "\n",
        "  ax1.set_xlabel('Date',size='medium',fontweight='bold')\n",
        "  ax1.set_ylabel('Stock Price')\n",
        "  # displaying the title\n",
        "  ax1.set_title(f\"Actual v.s Prediction of {name} ({slots[0]})\")\n",
        "\n",
        "  # fig.tight_layout()\n",
        "###################################################################################################\n",
        "  train_predict, test_predict = ON_predictions[1]\n",
        "  # trainPredictPlot = np.zeros(np.shape(data))+ np.nan\n",
        "  # trainPredictPlot[look_back:len(train_predict)+look_back,:] = train_predict\n",
        "\n",
        "  # testPredictPlot = np.zeros(np.shape(data))+np.nan\n",
        "  # testPredictPlot[len(train_predict)+look_back+1:len(data)-(1+look_back),:] = test_predict\n",
        "  test_data = ON_data[1]\n",
        "\n",
        "  ax2.plot(range(test_data.shape[0]),test_data,label=\"Test Ground Truth\")\n",
        "  ax2.plot(range(test_data.shape[0]),test_predict,label='Prediction')\n",
        "  ax2.legend([\"Ground Truth\", \"Prediction\"], loc=\"best\")\n",
        "  start = len(date)//2+len(train_predict)+look_back*2\n",
        "\n",
        "\n",
        "  data_stick = date[start:start+len(test_data)+1:5]\n",
        "  # ax2.xticks(range(0,test_data.shape[0],5),date.loc[start:start+len(test_data):5],rotation=45)\n",
        "  ax2.set_xticks(range(0,len(data_stick)*5,5),data_stick,size=6,rotation=45)\n",
        "  # Adding text beside the subplots\n",
        "  #ax2.text(3.5, 10, f'MAE : {ON_MAE[1]}', ha='right', va='center', transform=ax2.transAxes)\n",
        "\n",
        "  ax2.set_xlabel('Date',size='medium',fontweight='bold')\n",
        "  ax2.set_ylabel('Stock Price')\n",
        "  # displaying the title\n",
        "  ax2.set_title(f\"Actual v.s Prediction of {name} ({slots[1]})\")\n",
        "  fig.tight_layout()\n",
        "  plt.show()"
      ],
      "metadata": {
        "id": "F4pZj0mZ1pF7"
      },
      "execution_count": 4,
      "outputs": []
    },
    {
      "cell_type": "code",
      "source": [
        "from tensorflow.keras.models import Sequential\n",
        "from tensorflow.keras.layers import LSTM, Dense, Dropout, Input\n",
        "from tensorflow.keras.regularizers import l2\n",
        "from tensorflow.keras.callbacks import EarlyStopping\n",
        "\n",
        "time_step = 10\n",
        "def get_vanilla_LSTM(time_step):\n",
        "  model = Sequential()\n",
        "  model.add(Input((time_step,1)))\n",
        "  model.add(LSTM(50, activation='relu',))\n",
        "  model.add(Dense(1))\n",
        "  model.compile(optimizer='adam', loss='mse')\n",
        "  return model\n",
        "\n",
        "def get_stacked_LSTM(time_step):\n",
        "  model = Sequential()\n",
        "  model.add(Input((time_step, 1)))\n",
        "  model.add(LSTM(50, activation='relu', return_sequences=True, kernel_regularizer=l2(0.01)))\n",
        "  model.add(Dropout(0.2))\n",
        "  model.add(LSTM(50, activation='relu', return_sequences=True, kernel_regularizer=l2(0.01)))\n",
        "  model.add(Dropout(0.2))\n",
        "  model.add(Dense(1))\n",
        "  model.compile(optimizer='adam', loss='mse')\n",
        "  return model"
      ],
      "metadata": {
        "id": "5umX4GsJqt6E"
      },
      "execution_count": 40,
      "outputs": []
    },
    {
      "cell_type": "code",
      "source": [
        "model.summary()"
      ],
      "metadata": {
        "colab": {
          "base_uri": "https://localhost:8080/",
          "height": 272
        },
        "id": "QPYOB6lQZCz4",
        "outputId": "9f532203-4ac8-4fa6-905a-4b6b450e13de"
      },
      "execution_count": 36,
      "outputs": [
        {
          "output_type": "display_data",
          "data": {
            "text/plain": [
              "\u001b[1mModel: \"sequential_1\"\u001b[0m\n"
            ],
            "text/html": [
              "<pre style=\"white-space:pre;overflow-x:auto;line-height:normal;font-family:Menlo,'DejaVu Sans Mono',consolas,'Courier New',monospace\"><span style=\"font-weight: bold\">Model: \"sequential_1\"</span>\n",
              "</pre>\n"
            ]
          },
          "metadata": {}
        },
        {
          "output_type": "display_data",
          "data": {
            "text/plain": [
              "┏━━━━━━━━━━━━━━━━━━━━━━━━━━━━━━━━━━━━━━┳━━━━━━━━━━━━━━━━━━━━━━━━━━━━━┳━━━━━━━━━━━━━━━━━┓\n",
              "┃\u001b[1m \u001b[0m\u001b[1mLayer (type)                        \u001b[0m\u001b[1m \u001b[0m┃\u001b[1m \u001b[0m\u001b[1mOutput Shape               \u001b[0m\u001b[1m \u001b[0m┃\u001b[1m \u001b[0m\u001b[1m        Param #\u001b[0m\u001b[1m \u001b[0m┃\n",
              "┡━━━━━━━━━━━━━━━━━━━━━━━━━━━━━━━━━━━━━━╇━━━━━━━━━━━━━━━━━━━━━━━━━━━━━╇━━━━━━━━━━━━━━━━━┩\n",
              "│ lstm_3 (\u001b[38;5;33mLSTM\u001b[0m)                        │ (\u001b[38;5;45mNone\u001b[0m, \u001b[38;5;34m5\u001b[0m, \u001b[38;5;34m50\u001b[0m)               │          \u001b[38;5;34m10,400\u001b[0m │\n",
              "├──────────────────────────────────────┼─────────────────────────────┼─────────────────┤\n",
              "│ lstm_4 (\u001b[38;5;33mLSTM\u001b[0m)                        │ (\u001b[38;5;45mNone\u001b[0m, \u001b[38;5;34m5\u001b[0m, \u001b[38;5;34m50\u001b[0m)               │          \u001b[38;5;34m20,200\u001b[0m │\n",
              "├──────────────────────────────────────┼─────────────────────────────┼─────────────────┤\n",
              "│ lstm_5 (\u001b[38;5;33mLSTM\u001b[0m)                        │ (\u001b[38;5;45mNone\u001b[0m, \u001b[38;5;34m50\u001b[0m)                  │          \u001b[38;5;34m20,200\u001b[0m │\n",
              "├──────────────────────────────────────┼─────────────────────────────┼─────────────────┤\n",
              "│ dense_1 (\u001b[38;5;33mDense\u001b[0m)                      │ (\u001b[38;5;45mNone\u001b[0m, \u001b[38;5;34m1\u001b[0m)                   │              \u001b[38;5;34m51\u001b[0m │\n",
              "└──────────────────────────────────────┴─────────────────────────────┴─────────────────┘\n"
            ],
            "text/html": [
              "<pre style=\"white-space:pre;overflow-x:auto;line-height:normal;font-family:Menlo,'DejaVu Sans Mono',consolas,'Courier New',monospace\">┏━━━━━━━━━━━━━━━━━━━━━━━━━━━━━━━━━━━━━━┳━━━━━━━━━━━━━━━━━━━━━━━━━━━━━┳━━━━━━━━━━━━━━━━━┓\n",
              "┃<span style=\"font-weight: bold\"> Layer (type)                         </span>┃<span style=\"font-weight: bold\"> Output Shape                </span>┃<span style=\"font-weight: bold\">         Param # </span>┃\n",
              "┡━━━━━━━━━━━━━━━━━━━━━━━━━━━━━━━━━━━━━━╇━━━━━━━━━━━━━━━━━━━━━━━━━━━━━╇━━━━━━━━━━━━━━━━━┩\n",
              "│ lstm_3 (<span style=\"color: #0087ff; text-decoration-color: #0087ff\">LSTM</span>)                        │ (<span style=\"color: #00d7ff; text-decoration-color: #00d7ff\">None</span>, <span style=\"color: #00af00; text-decoration-color: #00af00\">5</span>, <span style=\"color: #00af00; text-decoration-color: #00af00\">50</span>)               │          <span style=\"color: #00af00; text-decoration-color: #00af00\">10,400</span> │\n",
              "├──────────────────────────────────────┼─────────────────────────────┼─────────────────┤\n",
              "│ lstm_4 (<span style=\"color: #0087ff; text-decoration-color: #0087ff\">LSTM</span>)                        │ (<span style=\"color: #00d7ff; text-decoration-color: #00d7ff\">None</span>, <span style=\"color: #00af00; text-decoration-color: #00af00\">5</span>, <span style=\"color: #00af00; text-decoration-color: #00af00\">50</span>)               │          <span style=\"color: #00af00; text-decoration-color: #00af00\">20,200</span> │\n",
              "├──────────────────────────────────────┼─────────────────────────────┼─────────────────┤\n",
              "│ lstm_5 (<span style=\"color: #0087ff; text-decoration-color: #0087ff\">LSTM</span>)                        │ (<span style=\"color: #00d7ff; text-decoration-color: #00d7ff\">None</span>, <span style=\"color: #00af00; text-decoration-color: #00af00\">50</span>)                  │          <span style=\"color: #00af00; text-decoration-color: #00af00\">20,200</span> │\n",
              "├──────────────────────────────────────┼─────────────────────────────┼─────────────────┤\n",
              "│ dense_1 (<span style=\"color: #0087ff; text-decoration-color: #0087ff\">Dense</span>)                      │ (<span style=\"color: #00d7ff; text-decoration-color: #00d7ff\">None</span>, <span style=\"color: #00af00; text-decoration-color: #00af00\">1</span>)                   │              <span style=\"color: #00af00; text-decoration-color: #00af00\">51</span> │\n",
              "└──────────────────────────────────────┴─────────────────────────────┴─────────────────┘\n",
              "</pre>\n"
            ]
          },
          "metadata": {}
        },
        {
          "output_type": "display_data",
          "data": {
            "text/plain": [
              "\u001b[1m Total params: \u001b[0m\u001b[38;5;34m50,851\u001b[0m (198.64 KB)\n"
            ],
            "text/html": [
              "<pre style=\"white-space:pre;overflow-x:auto;line-height:normal;font-family:Menlo,'DejaVu Sans Mono',consolas,'Courier New',monospace\"><span style=\"font-weight: bold\"> Total params: </span><span style=\"color: #00af00; text-decoration-color: #00af00\">50,851</span> (198.64 KB)\n",
              "</pre>\n"
            ]
          },
          "metadata": {}
        },
        {
          "output_type": "display_data",
          "data": {
            "text/plain": [
              "\u001b[1m Trainable params: \u001b[0m\u001b[38;5;34m50,851\u001b[0m (198.64 KB)\n"
            ],
            "text/html": [
              "<pre style=\"white-space:pre;overflow-x:auto;line-height:normal;font-family:Menlo,'DejaVu Sans Mono',consolas,'Courier New',monospace\"><span style=\"font-weight: bold\"> Trainable params: </span><span style=\"color: #00af00; text-decoration-color: #00af00\">50,851</span> (198.64 KB)\n",
              "</pre>\n"
            ]
          },
          "metadata": {}
        },
        {
          "output_type": "display_data",
          "data": {
            "text/plain": [
              "\u001b[1m Non-trainable params: \u001b[0m\u001b[38;5;34m0\u001b[0m (0.00 B)\n"
            ],
            "text/html": [
              "<pre style=\"white-space:pre;overflow-x:auto;line-height:normal;font-family:Menlo,'DejaVu Sans Mono',consolas,'Courier New',monospace\"><span style=\"font-weight: bold\"> Non-trainable params: </span><span style=\"color: #00af00; text-decoration-color: #00af00\">0</span> (0.00 B)\n",
              "</pre>\n"
            ]
          },
          "metadata": {}
        }
      ]
    },
    {
      "cell_type": "code",
      "source": [
        "MAPE = {}\n",
        "list_dic = [{} for sub in range(5)]\n",
        "for stocks_cata in test_stocks.keys():\n",
        "  MAPE[stocks_cata] = dict(zip(test_stocks[stocks_cata],list_dic))"
      ],
      "metadata": {
        "id": "8ZsLqpUWRWG2"
      },
      "execution_count": 35,
      "outputs": []
    },
    {
      "cell_type": "code",
      "source": [
        "print(MAPE)"
      ],
      "metadata": {
        "colab": {
          "base_uri": "https://localhost:8080/"
        },
        "id": "vPII2KdPTkfv",
        "outputId": "bee1530e-d7d8-4d4c-ff61-405b5aa86ffb"
      },
      "execution_count": 26,
      "outputs": [
        {
          "output_type": "stream",
          "name": "stdout",
          "text": [
            "{'choosen_stocks': {'AAPL': {}, 'DXCM': {}, 'JPM': {}, 'NEE': {}}}\n"
          ]
        }
      ]
    },
    {
      "cell_type": "code",
      "source": [
        "data_dir = \"/content/drive/My Drive/stock_data\"\n",
        "MAE = {}\n",
        "num_epochs = 200\n",
        "\n",
        "from sklearn.preprocessing import MinMaxScaler\n",
        "scaler = MinMaxScaler(feature_range=(0,1))\n",
        "\n",
        "# for file in files:\n",
        "#   if not file.endswith('.csv'):\n",
        "#     continue\n",
        "#   df = pd.read_csv(file)\n",
        "#   df_close = df.reset_index()['Close']\n",
        "import yfinance as yf\n",
        "# Define early stopping\n",
        "early_stopping = EarlyStopping(monitor='val_loss', patience=10, restore_best_weights=True)\n",
        "\n",
        "model = get_stacked_LSTM(time_step)\n",
        "# for stocks_cata in test_stocks.keys():\n",
        "for stock_cata in test_stocks.keys():\n",
        "  data = yf.download(test_stocks[stock_cata], start='2010-1-1', end='2020-1-1')\n",
        "  data_close = data['Close']\n",
        "  date = data_close.index.date\n",
        "  for column in data_close:\n",
        "\n",
        "    # Select column contents by column\n",
        "    # name using [] operator\n",
        "    df_close = data_close[column]\n",
        "    df_close.head()\n",
        "    df_old_normalized, df_new_normalized = get_ON_normalized_dt(df_close, scaler)\n",
        "\n",
        "    # data[stock_name] = {'old': df_old_normalized, 'new':df_new_normalized}\n",
        "    X_old_train, y_old_train, X_old_test, y_old_test = creat_train_test(df_old_normalized,time_step=time_step)\n",
        "\n",
        "    model.fit(X_old_train,y_old_train,validation_data=(X_old_test,y_old_test),epochs=num_epochs,batch_size=64, verbose=1, validation_split=0.2, callbacks=[early_stopping])\n",
        "    X_new_train, y_new_train, X_new_test, y_new_test = creat_train_test(df_new_normalized,time_step=time_step)\n",
        "    model.fit(X_new_train,y_new_train,validation_data=(X_new_test,y_new_test),epochs=num_epochs,batch_size=64, verbose=1, validation_split=0.2, callbacks=[early_stopping])\n",
        "\n",
        "    old_predictions = get_prediction(model,scaler,X_old_train,X_old_test)\n",
        "    new_predictions = get_prediction(model,scaler,X_new_train,X_new_test)\n",
        "    y_old_test = scaler.inverse_transform(y_old_test.reshape(-1,1))\n",
        "    y_new_test = scaler.inverse_transform(y_new_test.reshape(-1,1))\n",
        "    # old_MAE = get_MAE(y_old_test, old_predictions)\n",
        "    old_MAPE = get_MAPE(y_old_test, old_predictions)\n",
        "    # new_MAE = get_MAE(y_new_test,new_predictions)\n",
        "    new_MAPE = get_MAPE(y_new_test,new_predictions)\n",
        "\n",
        "    # plot_predictions([y_old_test,y_new_test],[old_predictions,new_predictions],[old_MAE,new_MAE],scaler,date,column,time_step)\n",
        "    # MAE[column] = [old_MAE, new_MAE]\n",
        "\n",
        "    MAPE[stock_cata][column] = [old_MAPE, new_MAPE]\n",
        "    print(MAPE)\n",
        "# for key in MAPE.keys():\n",
        "#  print(f\"{key} : {MAPE[key]}\")"
      ],
      "metadata": {
        "id": "Gi8NtQcWareC",
        "colab": {
          "base_uri": "https://localhost:8080/",
          "height": 1000
        },
        "outputId": "a5e0603a-26aa-4e00-b088-160c7db88138"
      },
      "execution_count": 41,
      "outputs": [
        {
          "output_type": "stream",
          "name": "stderr",
          "text": [
            "[*********************100%%**********************]  4 of 4 completed"
          ]
        },
        {
          "output_type": "stream",
          "name": "stdout",
          "text": [
            "Epoch 1/200\n"
          ]
        },
        {
          "output_type": "stream",
          "name": "stderr",
          "text": [
            "\n"
          ]
        },
        {
          "output_type": "stream",
          "name": "stdout",
          "text": [
            "\u001b[1m19/19\u001b[0m \u001b[32m━━━━━━━━━━━━━━━━━━━━\u001b[0m\u001b[37m\u001b[0m \u001b[1m10s\u001b[0m 245ms/step - loss: 0.9363 - val_loss: 1.0960\n",
            "Epoch 2/200\n",
            "\u001b[1m19/19\u001b[0m \u001b[32m━━━━━━━━━━━━━━━━━━━━\u001b[0m\u001b[37m\u001b[0m \u001b[1m0s\u001b[0m 9ms/step - loss: 0.6184 - val_loss: 0.7141\n",
            "Epoch 3/200\n",
            "\u001b[1m19/19\u001b[0m \u001b[32m━━━━━━━━━━━━━━━━━━━━\u001b[0m\u001b[37m\u001b[0m \u001b[1m0s\u001b[0m 8ms/step - loss: 0.4190 - val_loss: 0.5884\n",
            "Epoch 4/200\n",
            "\u001b[1m19/19\u001b[0m \u001b[32m━━━━━━━━━━━━━━━━━━━━\u001b[0m\u001b[37m\u001b[0m \u001b[1m0s\u001b[0m 8ms/step - loss: 0.2940 - val_loss: 0.5079\n",
            "Epoch 5/200\n",
            "\u001b[1m19/19\u001b[0m \u001b[32m━━━━━━━━━━━━━━━━━━━━\u001b[0m\u001b[37m\u001b[0m \u001b[1m0s\u001b[0m 9ms/step - loss: 0.2093 - val_loss: 0.4295\n",
            "Epoch 6/200\n",
            "\u001b[1m19/19\u001b[0m \u001b[32m━━━━━━━━━━━━━━━━━━━━\u001b[0m\u001b[37m\u001b[0m \u001b[1m0s\u001b[0m 8ms/step - loss: 0.1522 - val_loss: 0.4095\n",
            "Epoch 7/200\n",
            "\u001b[1m19/19\u001b[0m \u001b[32m━━━━━━━━━━━━━━━━━━━━\u001b[0m\u001b[37m\u001b[0m \u001b[1m0s\u001b[0m 7ms/step - loss: 0.1170 - val_loss: 0.3631\n",
            "Epoch 8/200\n",
            "\u001b[1m19/19\u001b[0m \u001b[32m━━━━━━━━━━━━━━━━━━━━\u001b[0m\u001b[37m\u001b[0m \u001b[1m0s\u001b[0m 7ms/step - loss: 0.0930 - val_loss: 0.3387\n",
            "Epoch 9/200\n",
            "\u001b[1m19/19\u001b[0m \u001b[32m━━━━━━━━━━━━━━━━━━━━\u001b[0m\u001b[37m\u001b[0m \u001b[1m0s\u001b[0m 7ms/step - loss: 0.0800 - val_loss: 0.3440\n",
            "Epoch 10/200\n",
            "\u001b[1m19/19\u001b[0m \u001b[32m━━━━━━━━━━━━━━━━━━━━\u001b[0m\u001b[37m\u001b[0m \u001b[1m0s\u001b[0m 6ms/step - loss: 0.0667 - val_loss: 0.3054\n",
            "Epoch 11/200\n",
            "\u001b[1m19/19\u001b[0m \u001b[32m━━━━━━━━━━━━━━━━━━━━\u001b[0m\u001b[37m\u001b[0m \u001b[1m0s\u001b[0m 6ms/step - loss: 0.0636 - val_loss: 0.3481\n",
            "Epoch 12/200\n",
            "\u001b[1m19/19\u001b[0m \u001b[32m━━━━━━━━━━━━━━━━━━━━\u001b[0m\u001b[37m\u001b[0m \u001b[1m0s\u001b[0m 6ms/step - loss: 0.0601 - val_loss: 0.3242\n",
            "Epoch 13/200\n",
            "\u001b[1m19/19\u001b[0m \u001b[32m━━━━━━━━━━━━━━━━━━━━\u001b[0m\u001b[37m\u001b[0m \u001b[1m0s\u001b[0m 7ms/step - loss: 0.0567 - val_loss: 0.3016\n",
            "Epoch 14/200\n",
            "\u001b[1m19/19\u001b[0m \u001b[32m━━━━━━━━━━━━━━━━━━━━\u001b[0m\u001b[37m\u001b[0m \u001b[1m0s\u001b[0m 6ms/step - loss: 0.0563 - val_loss: 0.3142\n",
            "Epoch 15/200\n",
            "\u001b[1m19/19\u001b[0m \u001b[32m━━━━━━━━━━━━━━━━━━━━\u001b[0m\u001b[37m\u001b[0m \u001b[1m0s\u001b[0m 6ms/step - loss: 0.0559 - val_loss: 0.2910\n",
            "Epoch 16/200\n",
            "\u001b[1m19/19\u001b[0m \u001b[32m━━━━━━━━━━━━━━━━━━━━\u001b[0m\u001b[37m\u001b[0m \u001b[1m0s\u001b[0m 7ms/step - loss: 0.0541 - val_loss: 0.3122\n",
            "Epoch 17/200\n",
            "\u001b[1m19/19\u001b[0m \u001b[32m━━━━━━━━━━━━━━━━━━━━\u001b[0m\u001b[37m\u001b[0m \u001b[1m0s\u001b[0m 6ms/step - loss: 0.0504 - val_loss: 0.2985\n",
            "Epoch 18/200\n",
            "\u001b[1m19/19\u001b[0m \u001b[32m━━━━━━━━━━━━━━━━━━━━\u001b[0m\u001b[37m\u001b[0m \u001b[1m0s\u001b[0m 6ms/step - loss: 0.0514 - val_loss: 0.2985\n",
            "Epoch 19/200\n",
            "\u001b[1m19/19\u001b[0m \u001b[32m━━━━━━━━━━━━━━━━━━━━\u001b[0m\u001b[37m\u001b[0m \u001b[1m0s\u001b[0m 6ms/step - loss: 0.0502 - val_loss: 0.2983\n",
            "Epoch 20/200\n",
            "\u001b[1m19/19\u001b[0m \u001b[32m━━━━━━━━━━━━━━━━━━━━\u001b[0m\u001b[37m\u001b[0m \u001b[1m0s\u001b[0m 6ms/step - loss: 0.0507 - val_loss: 0.2921\n",
            "Epoch 21/200\n",
            "\u001b[1m19/19\u001b[0m \u001b[32m━━━━━━━━━━━━━━━━━━━━\u001b[0m\u001b[37m\u001b[0m \u001b[1m0s\u001b[0m 7ms/step - loss: 0.0512 - val_loss: 0.2987\n",
            "Epoch 22/200\n",
            "\u001b[1m19/19\u001b[0m \u001b[32m━━━━━━━━━━━━━━━━━━━━\u001b[0m\u001b[37m\u001b[0m \u001b[1m0s\u001b[0m 6ms/step - loss: 0.0500 - val_loss: 0.2922\n",
            "Epoch 23/200\n",
            "\u001b[1m19/19\u001b[0m \u001b[32m━━━━━━━━━━━━━━━━━━━━\u001b[0m\u001b[37m\u001b[0m \u001b[1m0s\u001b[0m 7ms/step - loss: 0.0495 - val_loss: 0.3090\n",
            "Epoch 24/200\n",
            "\u001b[1m19/19\u001b[0m \u001b[32m━━━━━━━━━━━━━━━━━━━━\u001b[0m\u001b[37m\u001b[0m \u001b[1m0s\u001b[0m 7ms/step - loss: 0.0518 - val_loss: 0.2858\n",
            "Epoch 25/200\n",
            "\u001b[1m19/19\u001b[0m \u001b[32m━━━━━━━━━━━━━━━━━━━━\u001b[0m\u001b[37m\u001b[0m \u001b[1m0s\u001b[0m 7ms/step - loss: 0.0479 - val_loss: 0.2985\n",
            "Epoch 26/200\n",
            "\u001b[1m19/19\u001b[0m \u001b[32m━━━━━━━━━━━━━━━━━━━━\u001b[0m\u001b[37m\u001b[0m \u001b[1m0s\u001b[0m 7ms/step - loss: 0.0492 - val_loss: 0.2945\n",
            "Epoch 27/200\n",
            "\u001b[1m19/19\u001b[0m \u001b[32m━━━━━━━━━━━━━━━━━━━━\u001b[0m\u001b[37m\u001b[0m \u001b[1m0s\u001b[0m 6ms/step - loss: 0.0487 - val_loss: 0.2879\n",
            "Epoch 28/200\n",
            "\u001b[1m19/19\u001b[0m \u001b[32m━━━━━━━━━━━━━━━━━━━━\u001b[0m\u001b[37m\u001b[0m \u001b[1m0s\u001b[0m 6ms/step - loss: 0.0492 - val_loss: 0.2969\n",
            "Epoch 29/200\n",
            "\u001b[1m19/19\u001b[0m \u001b[32m━━━━━━━━━━━━━━━━━━━━\u001b[0m\u001b[37m\u001b[0m \u001b[1m0s\u001b[0m 7ms/step - loss: 0.0492 - val_loss: 0.2960\n",
            "Epoch 30/200\n",
            "\u001b[1m19/19\u001b[0m \u001b[32m━━━━━━━━━━━━━━━━━━━━\u001b[0m\u001b[37m\u001b[0m \u001b[1m0s\u001b[0m 6ms/step - loss: 0.0518 - val_loss: 0.2899\n",
            "Epoch 31/200\n",
            "\u001b[1m19/19\u001b[0m \u001b[32m━━━━━━━━━━━━━━━━━━━━\u001b[0m\u001b[37m\u001b[0m \u001b[1m0s\u001b[0m 6ms/step - loss: 0.0497 - val_loss: 0.2890\n",
            "Epoch 32/200\n",
            "\u001b[1m19/19\u001b[0m \u001b[32m━━━━━━━━━━━━━━━━━━━━\u001b[0m\u001b[37m\u001b[0m \u001b[1m0s\u001b[0m 7ms/step - loss: 0.0497 - val_loss: 0.2936\n",
            "Epoch 33/200\n",
            "\u001b[1m19/19\u001b[0m \u001b[32m━━━━━━━━━━━━━━━━━━━━\u001b[0m\u001b[37m\u001b[0m \u001b[1m0s\u001b[0m 6ms/step - loss: 0.0509 - val_loss: 0.2850\n",
            "Epoch 34/200\n",
            "\u001b[1m19/19\u001b[0m \u001b[32m━━━━━━━━━━━━━━━━━━━━\u001b[0m\u001b[37m\u001b[0m \u001b[1m0s\u001b[0m 6ms/step - loss: 0.0513 - val_loss: 0.2925\n",
            "Epoch 35/200\n",
            "\u001b[1m19/19\u001b[0m \u001b[32m━━━━━━━━━━━━━━━━━━━━\u001b[0m\u001b[37m\u001b[0m \u001b[1m0s\u001b[0m 7ms/step - loss: 0.0481 - val_loss: 0.3015\n",
            "Epoch 36/200\n",
            "\u001b[1m19/19\u001b[0m \u001b[32m━━━━━━━━━━━━━━━━━━━━\u001b[0m\u001b[37m\u001b[0m \u001b[1m0s\u001b[0m 6ms/step - loss: 0.0515 - val_loss: 0.2898\n",
            "Epoch 37/200\n",
            "\u001b[1m19/19\u001b[0m \u001b[32m━━━━━━━━━━━━━━━━━━━━\u001b[0m\u001b[37m\u001b[0m \u001b[1m0s\u001b[0m 6ms/step - loss: 0.0493 - val_loss: 0.2849\n",
            "Epoch 38/200\n",
            "\u001b[1m19/19\u001b[0m \u001b[32m━━━━━━━━━━━━━━━━━━━━\u001b[0m\u001b[37m\u001b[0m \u001b[1m0s\u001b[0m 7ms/step - loss: 0.0491 - val_loss: 0.2868\n",
            "Epoch 39/200\n",
            "\u001b[1m19/19\u001b[0m \u001b[32m━━━━━━━━━━━━━━━━━━━━\u001b[0m\u001b[37m\u001b[0m \u001b[1m0s\u001b[0m 6ms/step - loss: 0.0487 - val_loss: 0.2914\n",
            "Epoch 40/200\n",
            "\u001b[1m19/19\u001b[0m \u001b[32m━━━━━━━━━━━━━━━━━━━━\u001b[0m\u001b[37m\u001b[0m \u001b[1m0s\u001b[0m 7ms/step - loss: 0.0489 - val_loss: 0.2942\n",
            "Epoch 41/200\n",
            "\u001b[1m19/19\u001b[0m \u001b[32m━━━━━━━━━━━━━━━━━━━━\u001b[0m\u001b[37m\u001b[0m \u001b[1m0s\u001b[0m 6ms/step - loss: 0.0521 - val_loss: 0.2908\n",
            "Epoch 42/200\n",
            "\u001b[1m19/19\u001b[0m \u001b[32m━━━━━━━━━━━━━━━━━━━━\u001b[0m\u001b[37m\u001b[0m \u001b[1m0s\u001b[0m 7ms/step - loss: 0.0485 - val_loss: 0.2958\n",
            "Epoch 43/200\n",
            "\u001b[1m19/19\u001b[0m \u001b[32m━━━━━━━━━━━━━━━━━━━━\u001b[0m\u001b[37m\u001b[0m \u001b[1m0s\u001b[0m 7ms/step - loss: 0.0485 - val_loss: 0.2863\n",
            "Epoch 44/200\n",
            "\u001b[1m19/19\u001b[0m \u001b[32m━━━━━━━━━━━━━━━━━━━━\u001b[0m\u001b[37m\u001b[0m \u001b[1m0s\u001b[0m 7ms/step - loss: 0.0483 - val_loss: 0.2940\n",
            "Epoch 45/200\n",
            "\u001b[1m19/19\u001b[0m \u001b[32m━━━━━━━━━━━━━━━━━━━━\u001b[0m\u001b[37m\u001b[0m \u001b[1m0s\u001b[0m 7ms/step - loss: 0.0498 - val_loss: 0.2846\n",
            "Epoch 46/200\n",
            "\u001b[1m19/19\u001b[0m \u001b[32m━━━━━━━━━━━━━━━━━━━━\u001b[0m\u001b[37m\u001b[0m \u001b[1m0s\u001b[0m 7ms/step - loss: 0.0472 - val_loss: 0.2832\n",
            "Epoch 47/200\n",
            "\u001b[1m19/19\u001b[0m \u001b[32m━━━━━━━━━━━━━━━━━━━━\u001b[0m\u001b[37m\u001b[0m \u001b[1m0s\u001b[0m 7ms/step - loss: 0.0475 - val_loss: 0.2886\n",
            "Epoch 48/200\n",
            "\u001b[1m19/19\u001b[0m \u001b[32m━━━━━━━━━━━━━━━━━━━━\u001b[0m\u001b[37m\u001b[0m \u001b[1m0s\u001b[0m 6ms/step - loss: 0.0505 - val_loss: 0.2855\n",
            "Epoch 49/200\n",
            "\u001b[1m19/19\u001b[0m \u001b[32m━━━━━━━━━━━━━━━━━━━━\u001b[0m\u001b[37m\u001b[0m \u001b[1m0s\u001b[0m 7ms/step - loss: 0.0472 - val_loss: 0.2888\n",
            "Epoch 50/200\n",
            "\u001b[1m19/19\u001b[0m \u001b[32m━━━━━━━━━━━━━━━━━━━━\u001b[0m\u001b[37m\u001b[0m \u001b[1m0s\u001b[0m 6ms/step - loss: 0.0490 - val_loss: 0.2841\n",
            "Epoch 51/200\n",
            "\u001b[1m19/19\u001b[0m \u001b[32m━━━━━━━━━━━━━━━━━━━━\u001b[0m\u001b[37m\u001b[0m \u001b[1m0s\u001b[0m 7ms/step - loss: 0.0499 - val_loss: 0.2918\n",
            "Epoch 52/200\n",
            "\u001b[1m19/19\u001b[0m \u001b[32m━━━━━━━━━━━━━━━━━━━━\u001b[0m\u001b[37m\u001b[0m \u001b[1m0s\u001b[0m 6ms/step - loss: 0.0489 - val_loss: 0.2898\n",
            "Epoch 53/200\n",
            "\u001b[1m19/19\u001b[0m \u001b[32m━━━━━━━━━━━━━━━━━━━━\u001b[0m\u001b[37m\u001b[0m \u001b[1m0s\u001b[0m 6ms/step - loss: 0.0504 - val_loss: 0.2829\n",
            "Epoch 54/200\n",
            "\u001b[1m19/19\u001b[0m \u001b[32m━━━━━━━━━━━━━━━━━━━━\u001b[0m\u001b[37m\u001b[0m \u001b[1m0s\u001b[0m 6ms/step - loss: 0.0486 - val_loss: 0.2889\n",
            "Epoch 55/200\n",
            "\u001b[1m19/19\u001b[0m \u001b[32m━━━━━━━━━━━━━━━━━━━━\u001b[0m\u001b[37m\u001b[0m \u001b[1m0s\u001b[0m 6ms/step - loss: 0.0495 - val_loss: 0.2808\n",
            "Epoch 56/200\n",
            "\u001b[1m19/19\u001b[0m \u001b[32m━━━━━━━━━━━━━━━━━━━━\u001b[0m\u001b[37m\u001b[0m \u001b[1m0s\u001b[0m 7ms/step - loss: 0.0493 - val_loss: 0.2933\n",
            "Epoch 57/200\n",
            "\u001b[1m19/19\u001b[0m \u001b[32m━━━━━━━━━━━━━━━━━━━━\u001b[0m\u001b[37m\u001b[0m \u001b[1m0s\u001b[0m 7ms/step - loss: 0.0483 - val_loss: 0.2875\n",
            "Epoch 58/200\n",
            "\u001b[1m19/19\u001b[0m \u001b[32m━━━━━━━━━━━━━━━━━━━━\u001b[0m\u001b[37m\u001b[0m \u001b[1m0s\u001b[0m 6ms/step - loss: 0.0501 - val_loss: 0.2828\n",
            "Epoch 59/200\n",
            "\u001b[1m19/19\u001b[0m \u001b[32m━━━━━━━━━━━━━━━━━━━━\u001b[0m\u001b[37m\u001b[0m \u001b[1m0s\u001b[0m 6ms/step - loss: 0.0501 - val_loss: 0.2839\n",
            "Epoch 60/200\n",
            "\u001b[1m19/19\u001b[0m \u001b[32m━━━━━━━━━━━━━━━━━━━━\u001b[0m\u001b[37m\u001b[0m \u001b[1m0s\u001b[0m 6ms/step - loss: 0.0488 - val_loss: 0.2836\n",
            "Epoch 61/200\n",
            "\u001b[1m19/19\u001b[0m \u001b[32m━━━━━━━━━━━━━━━━━━━━\u001b[0m\u001b[37m\u001b[0m \u001b[1m0s\u001b[0m 6ms/step - loss: 0.0484 - val_loss: 0.2895\n",
            "Epoch 62/200\n",
            "\u001b[1m19/19\u001b[0m \u001b[32m━━━━━━━━━━━━━━━━━━━━\u001b[0m\u001b[37m\u001b[0m \u001b[1m0s\u001b[0m 6ms/step - loss: 0.0470 - val_loss: 0.2805\n",
            "Epoch 63/200\n",
            "\u001b[1m19/19\u001b[0m \u001b[32m━━━━━━━━━━━━━━━━━━━━\u001b[0m\u001b[37m\u001b[0m \u001b[1m0s\u001b[0m 7ms/step - loss: 0.0480 - val_loss: 0.2860\n",
            "Epoch 64/200\n",
            "\u001b[1m19/19\u001b[0m \u001b[32m━━━━━━━━━━━━━━━━━━━━\u001b[0m\u001b[37m\u001b[0m \u001b[1m0s\u001b[0m 7ms/step - loss: 0.0493 - val_loss: 0.2850\n",
            "Epoch 65/200\n",
            "\u001b[1m19/19\u001b[0m \u001b[32m━━━━━━━━━━━━━━━━━━━━\u001b[0m\u001b[37m\u001b[0m \u001b[1m0s\u001b[0m 7ms/step - loss: 0.0499 - val_loss: 0.2919\n",
            "Epoch 66/200\n",
            "\u001b[1m19/19\u001b[0m \u001b[32m━━━━━━━━━━━━━━━━━━━━\u001b[0m\u001b[37m\u001b[0m \u001b[1m0s\u001b[0m 8ms/step - loss: 0.0504 - val_loss: 0.2850\n",
            "Epoch 67/200\n",
            "\u001b[1m19/19\u001b[0m \u001b[32m━━━━━━━━━━━━━━━━━━━━\u001b[0m\u001b[37m\u001b[0m \u001b[1m0s\u001b[0m 7ms/step - loss: 0.0491 - val_loss: 0.2864\n",
            "Epoch 68/200\n",
            "\u001b[1m19/19\u001b[0m \u001b[32m━━━━━━━━━━━━━━━━━━━━\u001b[0m\u001b[37m\u001b[0m \u001b[1m0s\u001b[0m 7ms/step - loss: 0.0505 - val_loss: 0.2876\n",
            "Epoch 69/200\n",
            "\u001b[1m19/19\u001b[0m \u001b[32m━━━━━━━━━━━━━━━━━━━━\u001b[0m\u001b[37m\u001b[0m \u001b[1m0s\u001b[0m 8ms/step - loss: 0.0472 - val_loss: 0.2907\n",
            "Epoch 70/200\n",
            "\u001b[1m19/19\u001b[0m \u001b[32m━━━━━━━━━━━━━━━━━━━━\u001b[0m\u001b[37m\u001b[0m \u001b[1m0s\u001b[0m 9ms/step - loss: 0.0492 - val_loss: 0.2849\n",
            "Epoch 71/200\n",
            "\u001b[1m19/19\u001b[0m \u001b[32m━━━━━━━━━━━━━━━━━━━━\u001b[0m\u001b[37m\u001b[0m \u001b[1m0s\u001b[0m 9ms/step - loss: 0.0484 - val_loss: 0.2847\n",
            "Epoch 72/200\n",
            "\u001b[1m19/19\u001b[0m \u001b[32m━━━━━━━━━━━━━━━━━━━━\u001b[0m\u001b[37m\u001b[0m \u001b[1m0s\u001b[0m 7ms/step - loss: 0.0497 - val_loss: 0.2870\n",
            "Epoch 1/200\n",
            "\u001b[1m19/19\u001b[0m \u001b[32m━━━━━━━━━━━━━━━━━━━━\u001b[0m\u001b[37m\u001b[0m \u001b[1m3s\u001b[0m 175ms/step - loss: 0.0466 - val_loss: 0.3817\n",
            "Epoch 2/200\n",
            "\u001b[1m19/19\u001b[0m \u001b[32m━━━━━━━━━━━━━━━━━━━━\u001b[0m\u001b[37m\u001b[0m \u001b[1m0s\u001b[0m 7ms/step - loss: 0.0407 - val_loss: 0.3595\n",
            "Epoch 3/200\n",
            "\u001b[1m19/19\u001b[0m \u001b[32m━━━━━━━━━━━━━━━━━━━━\u001b[0m\u001b[37m\u001b[0m \u001b[1m0s\u001b[0m 8ms/step - loss: 0.0386 - val_loss: 0.3578\n",
            "Epoch 4/200\n",
            "\u001b[1m19/19\u001b[0m \u001b[32m━━━━━━━━━━━━━━━━━━━━\u001b[0m\u001b[37m\u001b[0m \u001b[1m0s\u001b[0m 7ms/step - loss: 0.0367 - val_loss: 0.3571\n",
            "Epoch 5/200\n",
            "\u001b[1m19/19\u001b[0m \u001b[32m━━━━━━━━━━━━━━━━━━━━\u001b[0m\u001b[37m\u001b[0m \u001b[1m0s\u001b[0m 7ms/step - loss: 0.0387 - val_loss: 0.3621\n",
            "Epoch 6/200\n",
            "\u001b[1m19/19\u001b[0m \u001b[32m━━━━━━━━━━━━━━━━━━━━\u001b[0m\u001b[37m\u001b[0m \u001b[1m0s\u001b[0m 6ms/step - loss: 0.0368 - val_loss: 0.3626\n",
            "Epoch 7/200\n",
            "\u001b[1m19/19\u001b[0m \u001b[32m━━━━━━━━━━━━━━━━━━━━\u001b[0m\u001b[37m\u001b[0m \u001b[1m0s\u001b[0m 6ms/step - loss: 0.0375 - val_loss: 0.3625\n",
            "Epoch 8/200\n",
            "\u001b[1m19/19\u001b[0m \u001b[32m━━━━━━━━━━━━━━━━━━━━\u001b[0m\u001b[37m\u001b[0m \u001b[1m0s\u001b[0m 6ms/step - loss: 0.0383 - val_loss: 0.3634\n",
            "Epoch 9/200\n",
            "\u001b[1m19/19\u001b[0m \u001b[32m━━━━━━━━━━━━━━━━━━━━\u001b[0m\u001b[37m\u001b[0m \u001b[1m0s\u001b[0m 7ms/step - loss: 0.0383 - val_loss: 0.3629\n",
            "Epoch 10/200\n",
            "\u001b[1m19/19\u001b[0m \u001b[32m━━━━━━━━━━━━━━━━━━━━\u001b[0m\u001b[37m\u001b[0m \u001b[1m0s\u001b[0m 6ms/step - loss: 0.0377 - val_loss: 0.3585\n",
            "\u001b[1m38/38\u001b[0m \u001b[32m━━━━━━━━━━━━━━━━━━━━\u001b[0m\u001b[37m\u001b[0m \u001b[1m1s\u001b[0m 20ms/step\n",
            "\u001b[1m1/1\u001b[0m \u001b[32m━━━━━━━━━━━━━━━━━━━━\u001b[0m\u001b[37m\u001b[0m \u001b[1m0s\u001b[0m 329ms/step\n"
          ]
        },
        {
          "output_type": "error",
          "ename": "ValueError",
          "evalue": "Found array with dim 3. None expected <= 2.",
          "traceback": [
            "\u001b[0;31m---------------------------------------------------------------------------\u001b[0m",
            "\u001b[0;31mValueError\u001b[0m                                Traceback (most recent call last)",
            "\u001b[0;32m<ipython-input-41-8c76855a3ad6>\u001b[0m in \u001b[0;36m<cell line: 19>\u001b[0;34m()\u001b[0m\n\u001b[1;32m     36\u001b[0m     \u001b[0mmodel\u001b[0m\u001b[0;34m.\u001b[0m\u001b[0mfit\u001b[0m\u001b[0;34m(\u001b[0m\u001b[0mX_new_train\u001b[0m\u001b[0;34m,\u001b[0m\u001b[0my_new_train\u001b[0m\u001b[0;34m,\u001b[0m\u001b[0mvalidation_data\u001b[0m\u001b[0;34m=\u001b[0m\u001b[0;34m(\u001b[0m\u001b[0mX_new_test\u001b[0m\u001b[0;34m,\u001b[0m\u001b[0my_new_test\u001b[0m\u001b[0;34m)\u001b[0m\u001b[0;34m,\u001b[0m\u001b[0mepochs\u001b[0m\u001b[0;34m=\u001b[0m\u001b[0mnum_epochs\u001b[0m\u001b[0;34m,\u001b[0m\u001b[0mbatch_size\u001b[0m\u001b[0;34m=\u001b[0m\u001b[0;36m64\u001b[0m\u001b[0;34m,\u001b[0m \u001b[0mverbose\u001b[0m\u001b[0;34m=\u001b[0m\u001b[0;36m1\u001b[0m\u001b[0;34m,\u001b[0m \u001b[0mvalidation_split\u001b[0m\u001b[0;34m=\u001b[0m\u001b[0;36m0.2\u001b[0m\u001b[0;34m,\u001b[0m \u001b[0mcallbacks\u001b[0m\u001b[0;34m=\u001b[0m\u001b[0;34m[\u001b[0m\u001b[0mearly_stopping\u001b[0m\u001b[0;34m]\u001b[0m\u001b[0;34m)\u001b[0m\u001b[0;34m\u001b[0m\u001b[0;34m\u001b[0m\u001b[0m\n\u001b[1;32m     37\u001b[0m \u001b[0;34m\u001b[0m\u001b[0m\n\u001b[0;32m---> 38\u001b[0;31m     \u001b[0mold_predictions\u001b[0m \u001b[0;34m=\u001b[0m \u001b[0mget_prediction\u001b[0m\u001b[0;34m(\u001b[0m\u001b[0mmodel\u001b[0m\u001b[0;34m,\u001b[0m\u001b[0mscaler\u001b[0m\u001b[0;34m,\u001b[0m\u001b[0mX_old_train\u001b[0m\u001b[0;34m,\u001b[0m\u001b[0mX_old_test\u001b[0m\u001b[0;34m)\u001b[0m\u001b[0;34m\u001b[0m\u001b[0;34m\u001b[0m\u001b[0m\n\u001b[0m\u001b[1;32m     39\u001b[0m     \u001b[0mnew_predictions\u001b[0m \u001b[0;34m=\u001b[0m \u001b[0mget_prediction\u001b[0m\u001b[0;34m(\u001b[0m\u001b[0mmodel\u001b[0m\u001b[0;34m,\u001b[0m\u001b[0mscaler\u001b[0m\u001b[0;34m,\u001b[0m\u001b[0mX_new_train\u001b[0m\u001b[0;34m,\u001b[0m\u001b[0mX_new_test\u001b[0m\u001b[0;34m)\u001b[0m\u001b[0;34m\u001b[0m\u001b[0;34m\u001b[0m\u001b[0m\n\u001b[1;32m     40\u001b[0m     \u001b[0my_old_test\u001b[0m \u001b[0;34m=\u001b[0m \u001b[0mscaler\u001b[0m\u001b[0;34m.\u001b[0m\u001b[0minverse_transform\u001b[0m\u001b[0;34m(\u001b[0m\u001b[0my_old_test\u001b[0m\u001b[0;34m.\u001b[0m\u001b[0mreshape\u001b[0m\u001b[0;34m(\u001b[0m\u001b[0;34m-\u001b[0m\u001b[0;36m1\u001b[0m\u001b[0;34m,\u001b[0m\u001b[0;36m1\u001b[0m\u001b[0;34m)\u001b[0m\u001b[0;34m)\u001b[0m\u001b[0;34m\u001b[0m\u001b[0;34m\u001b[0m\u001b[0m\n",
            "\u001b[0;32m<ipython-input-39-f6500ba56a7d>\u001b[0m in \u001b[0;36mget_prediction\u001b[0;34m(model, scalar, X_train, X_test)\u001b[0m\n\u001b[1;32m     46\u001b[0m   \u001b[0mtest_predict\u001b[0m\u001b[0;34m=\u001b[0m\u001b[0mmodel\u001b[0m\u001b[0;34m.\u001b[0m\u001b[0mpredict\u001b[0m\u001b[0;34m(\u001b[0m\u001b[0mX_test\u001b[0m\u001b[0;34m)\u001b[0m\u001b[0;34m\u001b[0m\u001b[0;34m\u001b[0m\u001b[0m\n\u001b[1;32m     47\u001b[0m \u001b[0;34m\u001b[0m\u001b[0m\n\u001b[0;32m---> 48\u001b[0;31m   \u001b[0mtrain_predict\u001b[0m\u001b[0;34m=\u001b[0m\u001b[0mscaler\u001b[0m\u001b[0;34m.\u001b[0m\u001b[0minverse_transform\u001b[0m\u001b[0;34m(\u001b[0m\u001b[0mtrain_predict\u001b[0m\u001b[0;34m)\u001b[0m\u001b[0;34m\u001b[0m\u001b[0;34m\u001b[0m\u001b[0m\n\u001b[0m\u001b[1;32m     49\u001b[0m   \u001b[0mtest_predict\u001b[0m\u001b[0;34m=\u001b[0m\u001b[0mscaler\u001b[0m\u001b[0;34m.\u001b[0m\u001b[0minverse_transform\u001b[0m\u001b[0;34m(\u001b[0m\u001b[0mtest_predict\u001b[0m\u001b[0;34m)\u001b[0m\u001b[0;34m\u001b[0m\u001b[0;34m\u001b[0m\u001b[0m\n\u001b[1;32m     50\u001b[0m   \u001b[0;32mreturn\u001b[0m \u001b[0mtrain_predict\u001b[0m\u001b[0;34m,\u001b[0m \u001b[0mtest_predict\u001b[0m\u001b[0;34m\u001b[0m\u001b[0;34m\u001b[0m\u001b[0m\n",
            "\u001b[0;32m/usr/local/lib/python3.10/dist-packages/sklearn/preprocessing/_data.py\u001b[0m in \u001b[0;36minverse_transform\u001b[0;34m(self, X)\u001b[0m\n\u001b[1;32m    542\u001b[0m         \u001b[0mcheck_is_fitted\u001b[0m\u001b[0;34m(\u001b[0m\u001b[0mself\u001b[0m\u001b[0;34m)\u001b[0m\u001b[0;34m\u001b[0m\u001b[0;34m\u001b[0m\u001b[0m\n\u001b[1;32m    543\u001b[0m \u001b[0;34m\u001b[0m\u001b[0m\n\u001b[0;32m--> 544\u001b[0;31m         X = check_array(\n\u001b[0m\u001b[1;32m    545\u001b[0m             \u001b[0mX\u001b[0m\u001b[0;34m,\u001b[0m \u001b[0mcopy\u001b[0m\u001b[0;34m=\u001b[0m\u001b[0mself\u001b[0m\u001b[0;34m.\u001b[0m\u001b[0mcopy\u001b[0m\u001b[0;34m,\u001b[0m \u001b[0mdtype\u001b[0m\u001b[0;34m=\u001b[0m\u001b[0mFLOAT_DTYPES\u001b[0m\u001b[0;34m,\u001b[0m \u001b[0mforce_all_finite\u001b[0m\u001b[0;34m=\u001b[0m\u001b[0;34m\"allow-nan\"\u001b[0m\u001b[0;34m\u001b[0m\u001b[0;34m\u001b[0m\u001b[0m\n\u001b[1;32m    546\u001b[0m         )\n",
            "\u001b[0;32m/usr/local/lib/python3.10/dist-packages/sklearn/utils/validation.py\u001b[0m in \u001b[0;36mcheck_array\u001b[0;34m(array, accept_sparse, accept_large_sparse, dtype, order, copy, force_all_finite, ensure_2d, allow_nd, ensure_min_samples, ensure_min_features, estimator, input_name)\u001b[0m\n\u001b[1;32m    949\u001b[0m             )\n\u001b[1;32m    950\u001b[0m         \u001b[0;32mif\u001b[0m \u001b[0;32mnot\u001b[0m \u001b[0mallow_nd\u001b[0m \u001b[0;32mand\u001b[0m \u001b[0marray\u001b[0m\u001b[0;34m.\u001b[0m\u001b[0mndim\u001b[0m \u001b[0;34m>=\u001b[0m \u001b[0;36m3\u001b[0m\u001b[0;34m:\u001b[0m\u001b[0;34m\u001b[0m\u001b[0;34m\u001b[0m\u001b[0m\n\u001b[0;32m--> 951\u001b[0;31m             raise ValueError(\n\u001b[0m\u001b[1;32m    952\u001b[0m                 \u001b[0;34m\"Found array with dim %d. %s expected <= 2.\"\u001b[0m\u001b[0;34m\u001b[0m\u001b[0;34m\u001b[0m\u001b[0m\n\u001b[1;32m    953\u001b[0m                 \u001b[0;34m%\u001b[0m \u001b[0;34m(\u001b[0m\u001b[0marray\u001b[0m\u001b[0;34m.\u001b[0m\u001b[0mndim\u001b[0m\u001b[0;34m,\u001b[0m \u001b[0mestimator_name\u001b[0m\u001b[0;34m)\u001b[0m\u001b[0;34m\u001b[0m\u001b[0;34m\u001b[0m\u001b[0m\n",
            "\u001b[0;31mValueError\u001b[0m: Found array with dim 3. None expected <= 2."
          ]
        }
      ]
    },
    {
      "cell_type": "code",
      "source": [
        "for key in MAPE.keys():\n",
        "  dic = MAPE[key]\n",
        "  for comp in dic.keys():\n",
        "    print(f\"{comp} : {dic[comp]}\")"
      ],
      "metadata": {
        "colab": {
          "base_uri": "https://localhost:8080/"
        },
        "id": "slz5VvMFfiw-",
        "outputId": "39473724-0f0b-48bd-f3b9-a976b42b062f"
      },
      "execution_count": 22,
      "outputs": [
        {
          "output_type": "stream",
          "name": "stdout",
          "text": [
            "AAPL : [0.0208175, 0.0258982]\n",
            "DXCM : [0.0321343, 0.0347536]\n",
            "JPM : [0.0108855, 0.0073206]\n",
            "NEE : [0.0094263, 0.0048628]\n",
            "PEE : {}\n"
          ]
        }
      ]
    }
  ]
}